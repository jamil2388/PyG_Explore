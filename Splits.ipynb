{
 "cells": [
  {
   "cell_type": "code",
   "execution_count": 14,
   "id": "9a67aa81-8667-41d7-982f-5333b6ca7659",
   "metadata": {},
   "outputs": [],
   "source": [
    "import os\n",
    "from tqdm import tqdm\n",
    "import time\n",
    "import pickle\n",
    "from torch_geometric.data import Data, HeteroData"
   ]
  },
  {
   "cell_type": "code",
   "execution_count": 3,
   "id": "18e3a59c-a821-4002-b300-319964411b05",
   "metadata": {},
   "outputs": [],
   "source": [
    "data_dir = f'data/splits'\n",
    "toy1 = f'{data_dir}/toy.m.undir.mean.data.pkl'\n",
    "toy2 = f'{data_dir}/toy.stm.undir.mean.data.pkl'"
   ]
  },
  {
   "cell_type": "code",
   "execution_count": 4,
   "id": "14ddd307-a940-44ce-9b79-cba4f950de42",
   "metadata": {},
   "outputs": [],
   "source": [
    "# load file\n",
    "def load_file(filepath):\n",
    "    if os.path.exists(filepath):\n",
    "        with open(filepath, 'rb') as f:\n",
    "            return pickle.load(f)\n",
    "    else:\n",
    "        print(f'Error! {filepath} not found!')"
   ]
  },
  {
   "cell_type": "code",
   "execution_count": 15,
   "id": "61af0d93-6df9-47f3-9fb5-6336efa71b43",
   "metadata": {},
   "outputs": [],
   "source": [
    "def get_hm_graph_stats(g):\n",
    "    print(f'\\n------------- Homogeneous Graph Stats --------------\\n')\n",
    "\n",
    "    print(f'Type of graph : {\"Undirected\" if g.is_undirected else \"Directed\"}')\n",
    "\n",
    "    print(f\"\\nNumber of nodes : {g.num_nodes}\")\n",
    "    print(f\"Number of edges : {g.num_edges}\")\n",
    "\n",
    "    print(f'\\nEdge List : \\n{g.edge_index.t().contiguous()}')\n",
    "        \n",
    "    print(f'\\n------------------------------\\n')"
   ]
  },
  {
   "cell_type": "code",
   "execution_count": 16,
   "id": "704f4c3c-d0e3-4e03-84c1-a766cf3cab9f",
   "metadata": {},
   "outputs": [],
   "source": [
    "def get_ht_graph_stats(g):\n",
    "    print(f'\\n------------- Heterogeneous Graph Stats --------------\\n')\n",
    "    node_types = g.node_types\n",
    "    edge_types = g.edge_types\n",
    "    print(f'Node Types : \\n{node_types}\\n')\n",
    "    print(f'Edge Types : ')\n",
    "    for edge_type in edge_types : \n",
    "        print(f'{edge_type}')\n",
    "    \n",
    "    print(\"\\nNode Types:\\n\")\n",
    "    for node_type in node_types:\n",
    "        num_nodes = g[node_type].num_nodes\n",
    "        print(f\"Number of nodes in '{node_type}': {num_nodes}\")\n",
    "    \n",
    "    print(\"\\nEdge Types:\\n\")\n",
    "    for edge_type in edge_types:\n",
    "        num_edges = g[edge_type].num_edges\n",
    "        print(f\"Number of edges in '{edge_type}': {num_edges}\")\n",
    "    print(f'\\n------------------------------\\n')"
   ]
  },
  {
   "cell_type": "code",
   "execution_count": 5,
   "id": "c0a3576a-643a-424b-b101-dfe3bb8dc07c",
   "metadata": {},
   "outputs": [],
   "source": [
    "homogeneous = load_file(toy1)\n",
    "heterogeneous = load_file(toy2)"
   ]
  },
  {
   "cell_type": "markdown",
   "id": "a4a62204-07d2-45a8-a79c-3f48c1a36a50",
   "metadata": {},
   "source": [
    "### Show the Difference between Data and HeteroData objects"
   ]
  },
  {
   "cell_type": "code",
   "execution_count": 5,
   "id": "012b63c8-f524-4678-bd3f-8cfefd27ae65",
   "metadata": {},
   "outputs": [
    {
     "name": "stdout",
     "output_type": "stream",
     "text": [
      "Data(x=[13, 1], edge_index=[2, 28], edge_attr=[28])\n"
     ]
    }
   ],
   "source": [
    "print(homogeneous)"
   ]
  },
  {
   "cell_type": "code",
   "execution_count": 29,
   "id": "5bf20081-f467-4387-99be-69eaaa0e33f3",
   "metadata": {},
   "outputs": [
    {
     "name": "stdout",
     "output_type": "stream",
     "text": [
      "HeteroData(\n",
      "  member={ x=[13, 1] },\n",
      "  team={ x=[31, 1] },\n",
      "  skill={ x=[10, 1] },\n",
      "  (skill, to, team)={\n",
      "    edge_index=[2, 72],\n",
      "    edge_attr=[72],\n",
      "  },\n",
      "  (member, to, team)={\n",
      "    edge_index=[2, 68],\n",
      "    edge_attr=[68],\n",
      "  },\n",
      "  (team, rev_to, skill)={\n",
      "    edge_index=[2, 72],\n",
      "    edge_attr=[72],\n",
      "  },\n",
      "  (team, rev_to, member)={\n",
      "    edge_index=[2, 68],\n",
      "    edge_attr=[68],\n",
      "  }\n",
      ")\n"
     ]
    }
   ],
   "source": [
    "print(heterogeneous)"
   ]
  },
  {
   "cell_type": "markdown",
   "id": "1656657f-9394-401a-b836-e916294d9cb3",
   "metadata": {},
   "source": [
    "# Random Node Split\n",
    "\n",
    "Performs a node-level random split by adding train_mask, val_mask and test_mask attributes to the Data or HeteroData object (functional name: **random_node_split**)\n",
    "https://pytorch-geometric.readthedocs.io/en/latest/generated/torch_geometric.transforms.RandomNodeSplit.html\n"
   ]
  },
  {
   "cell_type": "markdown",
   "id": "b788d8ef-9d06-413d-b5f1-d65007cd5428",
   "metadata": {},
   "source": [
    "### split = 'random'\n",
    "train, validation, and test sets will be randomly generated\n",
    "\n",
    "#### split = 'random', num_splits = 1, num_train_per_class = 1, num_val = 0.1, num_test = 0.1\n",
    "random allows to control the train, test and val separately <br>\n",
    "num_train_per_class = 1 gives 1 node for each class to the train split <br>\n",
    "num_val = 0.1 gives (0.1 * total number of nodes) to the val split which are not already in the train split <br>\n",
    "num_test = 0.1 gives (0.1 * total number of nodes) to the test split (taking from (data - (train + val))) <br>\n",
    "train, test and val dont overlap <br>\n",
    "<br> --------------------------------------------------------------------------------------------------------------- <br>\n",
    "\n",
    "#### split = 'random', num_splits = 1, num_train_per_class = 2, num_val = 0.3, num_test = 0.5\n",
    "random allows to control the train, test and val separately <br>\n",
    "num_train_per_class = 1 gives 1 node for each class to the train split <br>\n",
    "num_val = 0.3 gives (0.3 * total number of nodes) to the val split which are not already in the train split <br> \n",
    "num_test = 0.5 gives (0.5 * total number of nodes) to the test split (taking from (data - (train + val))) <br>\n",
    "train, test and val dont overlap <br>\n",
    "<br> --------------------------------------------------------------------------------------------------------------- <br>\n"
   ]
  },
  {
   "cell_type": "markdown",
   "id": "5ea01957-ce49-4997-aa41-c5e077b7bce5",
   "metadata": {},
   "source": [
    "### split = 'train_rest'\n",
    "all nodes except those in the validation and test sets will be used for training\n",
    "\n",
    "#### split = 'train_rest', num_splits = 1, num_train_per_class = 1, num_val = 0.1, num_test = 0.1\n",
    "num_val = 0.1 gives (0.1 * total number of nodes) to the val split <br>\n",
    "num_test = 0.1 gives (0.1 * total number of nodes) to the test split <br>\n",
    "**num_train_per_class** = regardless of this number, the entire nodes apart from the val and test split will be given to train split <br>\n",
    "train, test and val dont overlap <br>\n",
    "<br> --------------------------------------------------------------------------------------------------------------- <br>\n",
    "\n",
    "#### split = 'train_rest', num_splits = 1, num_train_per_class = 5, num_val = 0.8, num_test = 0.8\n",
    "**Who gets first???** <br>\n",
    "**val split first, then test, then train** <br>\n",
    "num_val = 0.8 gives (0.8 * total number of nodes) to the val split which are not already in the train split <br>\n",
    "num_test = 0.5 gives (0.5 * total number of nodes) from the remaining nodes to the test split <br>\n",
    "rest of the data to train split (Doesnt get any) <br>\n",
    "train, test and val dont overlap <br>\n",
    "<br> --------------------------------------------------------------------------------------------------------------- <br>"
   ]
  },
  {
   "cell_type": "markdown",
   "id": "7f3bed44-ff61-4881-97a3-27476d2fbc9e",
   "metadata": {},
   "source": [
    "### split = 'test_rest'\n",
    "all nodes except those in the training and validation sets will be used for test\n",
    "\n",
    "#### split = 'test_rest', num_splits = 1, num_train_per_class = 1, num_val = 0.1, num_test = 0.1\n",
    "num_train_per_class = 1 gives 1 node for each class to the train split <br>\n",
    "num_val = 0.1 gives (0.1 * total number of nodes) to the val split <br>\n",
    "**num_test = regardless of this number**, the entire nodes apart from the train and val split will be given to test split <br>\n",
    "train, test and val dont overlap <br>\n",
    "<br> --------------------------------------------------------------------------------------------------------------- <br>\n",
    "\n",
    "#### split = 'test_rest', num_splits = 1, num_train_per_class = 10, num_val = 0.9, num_test = 0.8\n",
    "**Who gets first???** <br>\n",
    "**train split first, then val, then test** <br>\n",
    "num_train_per_class = 1 gives 1 node for each class to the train split <br>\n",
    "num_val = 0.8 gives (0.8 * total number of nodes) to the val split which are not already in the train split <br>\n",
    "rest of the data to test split (Doesnt get any) <br>\n",
    "train, test and val dont overlap <br>\n",
    "<br> --------------------------------------------------------------------------------------------------------------- <br>"
   ]
  },
  {
   "cell_type": "markdown",
   "id": "279cace1-bf21-4936-8c9a-3806d098a7d0",
   "metadata": {},
   "source": [
    "#### Split Homogeneous Data"
   ]
  },
  {
   "cell_type": "code",
   "execution_count": 192,
   "id": "fdcef9d9-20b6-447f-b70e-325dce070966",
   "metadata": {},
   "outputs": [
    {
     "name": "stdout",
     "output_type": "stream",
     "text": [
      "||||||||||||| Homogeneous Section |||||||||||||\n",
      "\n",
      "\n",
      "----------- Before Transform --------------\n",
      "\n",
      "Number of nodes in homogeneous : 13\n",
      "Data(x=[13, 1], edge_index=[2, 28], edge_attr=[28], y=[13], num_classes=2)\n",
      "\n",
      "Node classes of homogeneous : tensor([0, 1, 1, 1, 0, 0, 1, 1, 1, 1, 1, 1, 0])\n",
      "Edge attributes of homogeneous : tensor([3, 2, 2, 3, 1, 2, 1, 2, 3, 2, 5, 5, 5, 4, 5, 4, 1, 3, 6, 2, 6, 4, 1, 4,\n",
      "        5, 1, 5, 1])\n",
      "\n",
      "----------- After Transform --------------\n",
      "\n",
      "Data(x=[13, 1], edge_index=[2, 28], edge_attr=[28], y=[13], num_classes=2, train_mask=[13], val_mask=[13], test_mask=[13])\n",
      "\n",
      "All the split nodes :\n",
      "train nodes : [0, 1, 2, 3, 4, 5, 6, 7, 8, 9, 10, 11, 12]\n",
      "train node classes : tensor([0, 1, 1, 1, 0, 0, 1, 1, 1, 1, 1, 1, 0])\n",
      "val nodes : []\n",
      "test nodes : []\n",
      "\n",
      "Number of train nodes : 13\n",
      "Number of validation nodes : 0\n",
      "Number of test nodes : 0\n",
      "\n",
      "---------------------------------------------\n",
      "\n"
     ]
    }
   ],
   "source": [
    "from torch_geometric.transforms import RandomNodeSplit\n",
    "from torch_geometric import transforms as T\n",
    "from copy import deepcopy\n",
    "import torch\n",
    "\n",
    "print(f'||||||||||||| Homogeneous Section |||||||||||||\\n')\n",
    "print()\n",
    "print(f'----------- Before Transform --------------\\n')\n",
    "\n",
    "# add custom y attritbute before node level splitting\n",
    "hm1 = deepcopy(homogeneous)\n",
    "\n",
    "print(f'Number of nodes in homogeneous : {hm1.num_nodes}')\n",
    "hm1.y = torch.randint(0, 2, (hm1.num_nodes, ))\n",
    "hm1.num_classes = 2\n",
    "print(hm1)\n",
    "print()\n",
    "print(f'Node classes of homogeneous : {hm1.y}')\n",
    "print(f'Edge attributes of homogeneous : {hm1.edge_attr}')\n",
    "\n",
    "# transform = RandomNodeSplit(split = 'random', num_splits = 1, num_train_per_class = 1, num_val = 0.1, num_test = 0.1, key = 'y')\n",
    "# transform = RandomNodeSplit(split = 'random', num_splits = 1, num_train_per_class = 2, num_val = 0.3, num_test = 0.5, key = 'y')\n",
    "# will leave nothing for train and val\n",
    "# transform = RandomNodeSplit(split = 'random', num_splits = 1, num_train_per_class = 50, num_val = 0.3, num_test = 0.5, key = 'y')\n",
    "\n",
    "# transform = RandomNodeSplit(split = 'train_rest', num_splits = 1, num_train_per_class = 1, num_val = 0.8, num_test = 0.8, key = 'y')\n",
    "# transform = RandomNodeSplit(split = 'train_rest', num_splits = 1, num_train_per_class = 2, num_val = 0.5, num_test = 0.5, key = 'y')\n",
    "# transform = RandomNodeSplit(split = 'train_rest', num_splits = 1, num_train_per_class = 50, num_val = 0.5, num_test = 0.5, key = 'y')\n",
    "\n",
    "# test will not get only 1 or 2 nodes for 0.1 ratio, rather the entire set of remaining nodes \n",
    "# transform = RandomNodeSplit(split = 'test_rest', num_splits = 1, num_train_per_class = 1, num_val = 0.1, num_test = 0.1, key = 'y')\n",
    "# transform = RandomNodeSplit(split = 'test_rest', num_splits = 1, num_train_per_class = 2, num_val = 0.3, num_test = 0.5, key = 'y')\n",
    "# will leave nothing for val and test\n",
    "# transform = RandomNodeSplit(split = 'test_rest', num_splits = 1, num_train_per_class = 10, num_val = 0.9, num_test = 0.8, key = 'y')\n",
    "\n",
    "hm1 = transform(hm1)\n",
    "print()\n",
    "print(f'----------- After Transform --------------\\n')\n",
    "print(hm1)\n",
    "\n",
    "print(f'\\nAll the split nodes :')\n",
    "print(f'train nodes : {hm1.train_mask.nonzero().view(-1).tolist()}')\n",
    "print(f'train node classes : {hm1.y[hm1.train_mask]}')\n",
    "print(f'val nodes : {hm1.val_mask.nonzero().view(-1).tolist()}')\n",
    "print(f'test nodes : {hm1.test_mask.nonzero().view(-1).tolist()}')\n",
    "print()\n",
    "print(f'Number of train nodes : {hm1.train_mask.sum().item()}')\n",
    "print(f'Number of validation nodes : {hm1.val_mask.sum().item()}')\n",
    "print(f'Number of test nodes : {hm1.test_mask.sum().item()}')\n",
    "print()\n",
    "print(f'---------------------------------------------\\n')"
   ]
  },
  {
   "cell_type": "markdown",
   "id": "d4587936-4e3b-4345-9e10-4ed8e6da765f",
   "metadata": {},
   "source": [
    "#### Split Heterogeneous Data"
   ]
  },
  {
   "cell_type": "markdown",
   "id": "1e376ac6-04ad-419c-80be-9d029196a335",
   "metadata": {},
   "source": [
    "##### 1. Collect the nodetypes and edgetypes first"
   ]
  },
  {
   "cell_type": "code",
   "execution_count": null,
   "id": "573398fe-9bba-495a-b4f0-fbe67585f901",
   "metadata": {},
   "outputs": [],
   "source": [
    "ht1 = deepcopy(heterogeneous)\n",
    "node_types = ht1.node_types\n",
    "edge_types = ht1.edge_types\n",
    "\n",
    "get_ht_graph_stats(ht1)"
   ]
  },
  {
   "cell_type": "markdown",
   "id": "957196a8-748d-458a-a1a8-b3eea064bf09",
   "metadata": {},
   "source": [
    "##### 2. Add y attribute based on the nodetypes (Consider 3 classes 0, 1 and 2)"
   ]
  },
  {
   "cell_type": "code",
   "execution_count": 146,
   "id": "4a8581e3-fcdc-485b-a79c-d48c110f6285",
   "metadata": {
    "scrolled": true
   },
   "outputs": [
    {
     "name": "stdout",
     "output_type": "stream",
     "text": [
      "||||||||||||| Heterogeneous Section |||||||||||||\n",
      "\n",
      "\n",
      "----------- Before Transform --------------\n",
      "\n",
      "HeteroData(\n",
      "  num_classes=3,\n",
      "  member={\n",
      "    x=[13, 1],\n",
      "    y=[13],\n",
      "    train_mask=[13],\n",
      "    val_mask=[13],\n",
      "    test_mask=[13],\n",
      "  },\n",
      "  team={\n",
      "    x=[31, 1],\n",
      "    y=[31],\n",
      "    train_mask=[31],\n",
      "    val_mask=[31],\n",
      "    test_mask=[31],\n",
      "  },\n",
      "  skill={\n",
      "    x=[10, 1],\n",
      "    y=[10],\n",
      "    train_mask=[10],\n",
      "    val_mask=[10],\n",
      "    test_mask=[10],\n",
      "  },\n",
      "  (skill, to, team)={\n",
      "    edge_index=[2, 72],\n",
      "    edge_attr=[72],\n",
      "  },\n",
      "  (member, to, team)={\n",
      "    edge_index=[2, 68],\n",
      "    edge_attr=[68],\n",
      "  },\n",
      "  (team, rev_to, skill)={\n",
      "    edge_index=[2, 72],\n",
      "    edge_attr=[72],\n",
      "  },\n",
      "  (team, rev_to, member)={\n",
      "    edge_index=[2, 68],\n",
      "    edge_attr=[68],\n",
      "  }\n",
      ")\n",
      "\n",
      "Node classes of node type member : tensor([0, 0, 1, 0, 0, 0, 2, 2, 0, 0, 0, 2, 2])\n",
      "Node classes of node type team : tensor([0, 2, 2, 0, 1, 2, 1, 2, 1, 1, 1, 2, 0, 2, 2, 1, 0, 1, 0, 0, 1, 0, 0, 1,\n",
      "        1, 0, 0, 2, 2, 1, 2])\n",
      "Node classes of node type skill : tensor([2, 2, 2, 2, 2, 2, 0, 1, 0, 1])\n",
      "\n",
      "----------- After Transform --------------\n",
      "\n",
      "HeteroData(\n",
      "  num_classes=3,\n",
      "  member={\n",
      "    x=[13, 1],\n",
      "    y=[13],\n",
      "    train_mask=[13],\n",
      "    val_mask=[13],\n",
      "    test_mask=[13],\n",
      "  },\n",
      "  team={\n",
      "    x=[31, 1],\n",
      "    y=[31],\n",
      "    train_mask=[31],\n",
      "    val_mask=[31],\n",
      "    test_mask=[31],\n",
      "  },\n",
      "  skill={\n",
      "    x=[10, 1],\n",
      "    y=[10],\n",
      "    train_mask=[10],\n",
      "    val_mask=[10],\n",
      "    test_mask=[10],\n",
      "  },\n",
      "  (skill, to, team)={\n",
      "    edge_index=[2, 72],\n",
      "    edge_attr=[72],\n",
      "  },\n",
      "  (member, to, team)={\n",
      "    edge_index=[2, 68],\n",
      "    edge_attr=[68],\n",
      "  },\n",
      "  (team, rev_to, skill)={\n",
      "    edge_index=[2, 72],\n",
      "    edge_attr=[72],\n",
      "  },\n",
      "  (team, rev_to, member)={\n",
      "    edge_index=[2, 68],\n",
      "    edge_attr=[68],\n",
      "  }\n",
      ")\n",
      "\n",
      " *** Node Type member ***\n",
      "\n",
      "train mask : [0, 1, 2, 5, 6, 7, 8, 9, 12]\n",
      "val mask : [10]\n",
      "test mask : [3, 4, 11]\n",
      "\n",
      "Number of train nodes : 9\n",
      "Number of validation nodes : 1\n",
      "Number of test nodes : 3\n",
      "\n",
      "\n",
      " *** Node Type team ***\n",
      "\n",
      "train mask : [0, 1, 2, 3, 6, 8, 9, 10, 11, 12, 13, 14, 16, 18, 19, 20, 22, 23, 25, 26, 29, 30]\n",
      "val mask : [15, 21, 27]\n",
      "test mask : [4, 5, 7, 17, 24, 28]\n",
      "\n",
      "Number of train nodes : 22\n",
      "Number of validation nodes : 3\n",
      "Number of test nodes : 6\n",
      "\n",
      "\n",
      " *** Node Type skill ***\n",
      "\n",
      "train mask : [0, 1, 3, 5, 6, 8, 9]\n",
      "val mask : [2]\n",
      "test mask : [4, 7]\n",
      "\n",
      "Number of train nodes : 7\n",
      "Number of validation nodes : 1\n",
      "Number of test nodes : 2\n",
      "\n",
      "---------------------------------------------\n",
      "\n"
     ]
    }
   ],
   "source": [
    "print(f'||||||||||||| Heterogeneous Section |||||||||||||\\n')\n",
    "print()\n",
    "print(f'----------- Before Transform --------------\\n')\n",
    "# add custom y attritbute before node level splitting\n",
    "\n",
    "for node_type in node_types:\n",
    "    ht1[node_type].y = torch.randint(0, 3, (ht1[node_type].num_nodes, ))\n",
    "ht1.num_classes = 3\n",
    "\n",
    "print(ht1)\n",
    "print()\n",
    "for node_type in node_types:\n",
    "    print(f'Node classes of node type {node_type} : {ht1[node_type].y}')\n",
    "\n",
    "transform = RandomNodeSplit(split = 'train_rest', num_splits = 1, num_train_per_class = 1, num_val = 0.1, num_test = 0.2, key = 'y')\n",
    "ht1 = transform(ht1)\n",
    "\n",
    "print()\n",
    "print(f'----------- After Transform --------------\\n')\n",
    "print(ht1)\n",
    "\n",
    "for node_type in node_types:\n",
    "    print(f'\\n *** Node Type {node_type} ***\\n')\n",
    "    print(f'train mask : {ht1[node_type].train_mask.nonzero().view(-1).tolist()}')\n",
    "    print(f'val mask : {ht1[node_type].val_mask.nonzero().view(-1).tolist()}')\n",
    "    print(f'test mask : {ht1[node_type].test_mask.nonzero().view(-1).tolist()}')\n",
    "    print()\n",
    "    print(f'Number of train nodes : {ht1[node_type].train_mask.sum().item()}')\n",
    "    print(f'Number of validation nodes : {ht1[node_type].val_mask.sum().item()}')\n",
    "    print(f'Number of test nodes : {ht1[node_type].test_mask.sum().item()}')\n",
    "    print()\n",
    "print(f'---------------------------------------------\\n')"
   ]
  },
  {
   "cell_type": "markdown",
   "id": "d02a68de-efea-4735-ae92-d8c397f87afa",
   "metadata": {},
   "source": [
    "### Run a Classification Model (GCN) for Homogeneous Data"
   ]
  },
  {
   "cell_type": "code",
   "execution_count": 147,
   "id": "142217c1-8a5e-48b4-8c8a-5a5cd8f49c2a",
   "metadata": {},
   "outputs": [],
   "source": [
    "import torch.nn.functional as F\n",
    "from torch_geometric.nn import GCNConv\n",
    "\n",
    "class GCN(torch.nn.Module):\n",
    "    def __init__(self):\n",
    "        super().__init__()\n",
    "        self.conv1 = GCNConv(hm1.num_node_features, 16)\n",
    "        self.conv2 = GCNConv(16, hm1.num_classes)\n",
    "\n",
    "    def forward(self, data):\n",
    "        x, edge_index = data.x, data.edge_index\n",
    "\n",
    "        x = self.conv1(x, edge_index)\n",
    "        x = F.relu(x)\n",
    "        x = F.dropout(x, training=self.training)\n",
    "        x = self.conv2(x, edge_index)\n",
    "\n",
    "        return F.log_softmax(x, dim=1)"
   ]
  },
  {
   "cell_type": "code",
   "execution_count": 158,
   "id": "cc798b1b-977c-4bf9-a760-b32081c0cc21",
   "metadata": {},
   "outputs": [
    {
     "name": "stderr",
     "output_type": "stream",
     "text": [
      "100%|████████████████████████████████████████████████████████████████████████████████████████████████████████████████████████████████████████████████████████████████████████████████████████████████████| 100/100 [00:00<00:00, 171.99it/s]\n"
     ]
    }
   ],
   "source": [
    "device = torch.device('cuda' if torch.cuda.is_available() else 'cpu')\n",
    "model = GCN().to(device)\n",
    "hm1 = hm1.to(device)\n",
    "optimizer = torch.optim.Adam(model.parameters(), lr=0.001, weight_decay=5e-4)\n",
    "\n",
    "model.train()\n",
    "for epoch in tqdm(range(100)):\n",
    "    optimizer.zero_grad()\n",
    "    out = model(hm1)\n",
    "    loss = F.nll_loss(out[hm1.train_mask], hm1.y[hm1.train_mask])\n",
    "    loss.backward()\n",
    "    optimizer.step()"
   ]
  },
  {
   "cell_type": "code",
   "execution_count": 159,
   "id": "2e4ef4b1-7051-42ed-8ce5-423858b35a9d",
   "metadata": {},
   "outputs": [
    {
     "name": "stdout",
     "output_type": "stream",
     "text": [
      "pred = tensor([0, 0, 0, 0, 0, 0, 0, 0, 0, 0, 0, 0, 0], device='cuda:0')\n",
      "Accuracy: 0.6667\n"
     ]
    }
   ],
   "source": [
    "model.eval()\n",
    "pred = model(hm1).argmax(dim=1)\n",
    "print(f'pred = {pred}')\n",
    "correct = (pred[hm1.test_mask] == hm1.y[hm1.test_mask]).sum()\n",
    "acc = int(correct) / int(hm1.test_mask.sum())\n",
    "print(f'Accuracy: {acc:.4f}')"
   ]
  },
  {
   "cell_type": "markdown",
   "id": "e5074a53-bf5f-4437-b3dc-e4cc69f06cb1",
   "metadata": {},
   "source": [
    "# --------------------------------------------------"
   ]
  },
  {
   "cell_type": "markdown",
   "id": "8177f05f-0847-43a9-96bb-bc29000de8cf",
   "metadata": {},
   "source": [
    "# Random Link Split\n",
    "\n",
    "Performs an edge-level random split into training, validation and test sets of a Data or a HeteroData object (functional name: random_link_split). The split is performed such that the training split does not include edges in validation and test splits; and the validation split does not include edges in the test split. <br>\n",
    "\n",
    "https://pytorch-geometric.readthedocs.io/en/latest/generated/torch_geometric.transforms.RandomLinkSplit.html\n"
   ]
  },
  {
   "cell_type": "code",
   "execution_count": 9,
   "id": "032442a0-a514-4f0d-a2d5-30edfb9cbb17",
   "metadata": {},
   "outputs": [],
   "source": [
    "from torch_geometric.transforms import RandomLinkSplit\n",
    "from torch_geometric import transforms as T\n",
    "from copy import deepcopy\n",
    "import torch"
   ]
  },
  {
   "cell_type": "code",
   "execution_count": 17,
   "id": "b219722c-cc5f-4763-899d-67ad9474984d",
   "metadata": {},
   "outputs": [
    {
     "name": "stdout",
     "output_type": "stream",
     "text": [
      "Data(x=[13, 1], edge_index=[2, 28], edge_attr=[28])\n"
     ]
    }
   ],
   "source": [
    "print(homogeneous)"
   ]
  },
  {
   "cell_type": "code",
   "execution_count": 18,
   "id": "6461cb32-4ed2-4c45-ba10-2314037a9648",
   "metadata": {},
   "outputs": [
    {
     "name": "stdout",
     "output_type": "stream",
     "text": [
      "HeteroData(\n",
      "  member={ x=[13, 1] },\n",
      "  team={ x=[31, 1] },\n",
      "  skill={ x=[10, 1] },\n",
      "  (skill, to, team)={\n",
      "    edge_index=[2, 72],\n",
      "    edge_attr=[72],\n",
      "  },\n",
      "  (member, to, team)={\n",
      "    edge_index=[2, 68],\n",
      "    edge_attr=[68],\n",
      "  },\n",
      "  (team, rev_to, skill)={\n",
      "    edge_index=[2, 72],\n",
      "    edge_attr=[72],\n",
      "  },\n",
      "  (team, rev_to, member)={\n",
      "    edge_index=[2, 68],\n",
      "    edge_attr=[68],\n",
      "  }\n",
      ")\n"
     ]
    }
   ],
   "source": [
    "print(heterogeneous)"
   ]
  },
  {
   "cell_type": "code",
   "execution_count": 19,
   "id": "469567cd-13ee-4e9d-9d83-f1bc65d2591c",
   "metadata": {},
   "outputs": [],
   "source": [
    "hm = deepcopy(homogeneous)\n",
    "ht = deepcopy(heterogeneous)"
   ]
  },
  {
   "cell_type": "code",
   "execution_count": 20,
   "id": "250e4b47-bf1d-4018-8e72-23682ce8afc9",
   "metadata": {},
   "outputs": [],
   "source": [
    "transform = RandomLinkSplit(is_undirected = True)\n",
    "train, val, test = transform(hm)"
   ]
  },
  {
   "cell_type": "code",
   "execution_count": 21,
   "id": "b765e72a-9cfe-4c65-b07a-fadbcf9f000c",
   "metadata": {
    "scrolled": true
   },
   "outputs": [
    {
     "name": "stdout",
     "output_type": "stream",
     "text": [
      "\n",
      "------------- Homogeneous Graph Stats --------------\n",
      "\n",
      "Type of graph : Undirected\n",
      "\n",
      "Number of nodes : 13\n",
      "Number of edges : 22\n",
      "\n",
      "Edge List : \n",
      "tensor([[ 0,  1],\n",
      "        [ 3,  7],\n",
      "        [ 7,  8],\n",
      "        [ 4,  5],\n",
      "        [ 9, 10],\n",
      "        [ 9, 11],\n",
      "        [ 0,  3],\n",
      "        [ 6, 12],\n",
      "        [ 0,  2],\n",
      "        [ 3,  8],\n",
      "        [ 1,  2],\n",
      "        [ 1,  0],\n",
      "        [ 7,  3],\n",
      "        [ 8,  7],\n",
      "        [ 5,  4],\n",
      "        [10,  9],\n",
      "        [11,  9],\n",
      "        [ 3,  0],\n",
      "        [12,  6],\n",
      "        [ 2,  0],\n",
      "        [ 8,  3],\n",
      "        [ 2,  1]])\n",
      "\n",
      "------------------------------\n",
      "\n"
     ]
    }
   ],
   "source": [
    "# homogeneous stats\n",
    "get_hm_graph_stats(train)"
   ]
  },
  {
   "cell_type": "code",
   "execution_count": 23,
   "id": "913554f7-819c-4b8f-bd16-f2dda229aef4",
   "metadata": {},
   "outputs": [
    {
     "name": "stdout",
     "output_type": "stream",
     "text": [
      "\n",
      "------------- Homogeneous Graph Stats --------------\n",
      "\n",
      "Type of graph : Undirected\n",
      "\n",
      "Number of nodes : 13\n",
      "Number of edges : 22\n",
      "\n",
      "Edge List : \n",
      "tensor([[ 0,  1],\n",
      "        [ 3,  7],\n",
      "        [ 7,  8],\n",
      "        [ 4,  5],\n",
      "        [ 9, 10],\n",
      "        [ 9, 11],\n",
      "        [ 0,  3],\n",
      "        [ 6, 12],\n",
      "        [ 0,  2],\n",
      "        [ 3,  8],\n",
      "        [ 1,  2],\n",
      "        [ 1,  0],\n",
      "        [ 7,  3],\n",
      "        [ 8,  7],\n",
      "        [ 5,  4],\n",
      "        [10,  9],\n",
      "        [11,  9],\n",
      "        [ 3,  0],\n",
      "        [12,  6],\n",
      "        [ 2,  0],\n",
      "        [ 8,  3],\n",
      "        [ 2,  1]])\n",
      "\n",
      "------------------------------\n",
      "\n"
     ]
    }
   ],
   "source": [
    "get_hm_graph_stats(val)"
   ]
  },
  {
   "cell_type": "code",
   "execution_count": 24,
   "id": "024b3561-6382-4909-9677-dfb5d9b49c7e",
   "metadata": {},
   "outputs": [
    {
     "name": "stdout",
     "output_type": "stream",
     "text": [
      "\n",
      "------------- Homogeneous Graph Stats --------------\n",
      "\n",
      "Type of graph : Undirected\n",
      "\n",
      "Number of nodes : 13\n",
      "Number of edges : 24\n",
      "\n",
      "Edge List : \n",
      "tensor([[ 0,  1],\n",
      "        [ 3,  7],\n",
      "        [ 7,  8],\n",
      "        [ 4,  5],\n",
      "        [ 9, 10],\n",
      "        [ 9, 11],\n",
      "        [ 0,  3],\n",
      "        [ 6, 12],\n",
      "        [ 0,  2],\n",
      "        [ 3,  8],\n",
      "        [ 1,  2],\n",
      "        [ 4,  6],\n",
      "        [ 1,  0],\n",
      "        [ 7,  3],\n",
      "        [ 8,  7],\n",
      "        [ 5,  4],\n",
      "        [10,  9],\n",
      "        [11,  9],\n",
      "        [ 3,  0],\n",
      "        [12,  6],\n",
      "        [ 2,  0],\n",
      "        [ 8,  3],\n",
      "        [ 2,  1],\n",
      "        [ 6,  4]])\n",
      "\n",
      "------------------------------\n",
      "\n"
     ]
    }
   ],
   "source": [
    "get_hm_graph_stats(test)"
   ]
  },
  {
   "cell_type": "code",
   "execution_count": null,
   "id": "acbc598a-e739-400e-960d-a52cec8c242a",
   "metadata": {},
   "outputs": [],
   "source": []
  }
 ],
 "metadata": {
  "kernelspec": {
   "display_name": "pyg_explore",
   "language": "python",
   "name": "pyg_explore"
  },
  "language_info": {
   "codemirror_mode": {
    "name": "ipython",
    "version": 3
   },
   "file_extension": ".py",
   "mimetype": "text/x-python",
   "name": "python",
   "nbconvert_exporter": "python",
   "pygments_lexer": "ipython3",
   "version": "3.10.0rc2"
  }
 },
 "nbformat": 4,
 "nbformat_minor": 5
}
